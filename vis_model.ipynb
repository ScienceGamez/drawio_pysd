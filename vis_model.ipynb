{
 "cells": [
  {
   "cell_type": "code",
   "execution_count": null,
   "metadata": {},
   "outputs": [],
   "source": [
    "import pysd \n",
    "import pandas as pd"
   ]
  },
  {
   "cell_type": "code",
   "execution_count": null,
   "metadata": {},
   "outputs": [],
   "source": [
    "model_file = 'examples/greenhouse.py'\n",
    "model = pysd.load(model_file)"
   ]
  },
  {
   "cell_type": "code",
   "execution_count": null,
   "metadata": {},
   "outputs": [],
   "source": [
    "df = model.run()\n",
    "df"
   ]
  },
  {
   "cell_type": "code",
   "execution_count": null,
   "metadata": {},
   "outputs": [],
   "source": [
    "df[['Athmospheric CO2', 'Lower Ocean CO2', 'Upper Ocean CO2',  'Ocean Sedimented', 'Vegetation CO2', 'Soil CO2']]"
   ]
  },
  {
   "cell_type": "code",
   "execution_count": null,
   "metadata": {},
   "outputs": [],
   "source": [
    "# Collect some observations\n",
    "target_values = {\n",
    "    'Athmospheric CO2': {\n",
    "        # From ipcc\n",
    "        1750: 591,\n",
    "        2015: 591+279,\n",
    "    },\n",
    "    'Athmospheric CO2 Concentraton': {\n",
    "        # https://www.climate.gov/news-features/understanding-climate/climate-change-atmospheric-carbon-dioxide\n",
    "        1750: 278,\n",
    "        1840: 285,\n",
    "        1915: 300,\n",
    "        # NOAA: https://climate.nasa.gov/vital-signs/carbon-dioxide/\n",
    "        1958: 315.23, 1959: 315.98, 1960: 316.91, 1961: 317.64, 1962: 318.45, 1963: 318.99, 1964: 319.62, 1965: 320.04, 1966: 321.37, 1967: 322.18, 1968: 323.05, 1969: 324.62, 1970: 325.68, 1971: 326.32, 1972: 327.46, 1973: 329.68, 1974: 330.19, 1975: 331.13, 1976: 332.03, 1977: 333.84, 1978: 335.42, 1979: 336.84, 1980: 338.76, 1981: 340.12, 1982: 341.48, 1983: 343.15, 1984: 344.87, 1985: 346.35, 1986: 347.61, 1987: 349.31, 1988: 351.69, 1989: 353.20, 1990: 354.45, 1991: 355.70, 1992: 356.55, 1993: 357.22, 1994: 358.96, 1995: 360.97, 1996: 362.74, 1997: 363.88, 1998: 366.84, 1999: 368.54, 2000: 369.71, 2001: 371.32, 2002: 373.45, 2003: 375.98, 2004: 377.70, 2005: 379.98, 2006: 382.09, 2007: 384.03, 2008: 385.83, 2009: 387.64, 2010: 390.10, 2011: 391.85, 2012: 394.06, 2013: 396.74, 2014: 398.81, 2015: 401.01, 2016: 404.41, 2017: 406.76, 2018: 408.71, 2019: 411.65, 2020: 414.21, 2021: 416.41, 2022: 418.53, 2023: 421.99,\n",
    "    },\n",
    "    'Ph Ocean': {\n",
    "        # https://www.eea.europa.eu/ims/ocean-acidification\n",
    "        1750: 8.25,\n",
    "        # Autoamtically from https://www.eea.europa.eu/ims/ocean-acidification\n",
    "        1988: 8.11, 1989: 8.11, 1990: 8.12, 1991: 8.11, 1992: 8.11, 1993: 8.11, 1994: 8.11, 1995: 8.10, 1996: 8.10, 1997: 8.10, 1998: 8.09, 1999: 8.10, 2000: 8.09, 2001: 8.09, 2002: 8.09, 2003: 8.09, 2004: 8.09, 2005: 8.08, 2006: 8.09, 2007: 8.08, 2008: 8.08, 2009: 8.08, 2010: 8.08, 2011: 8.08, 2012: 8.07, 2013: 8.07, 2014: 8.07, 2015: 8.07, 2016: 8.07, 2017: 8.06, 2018: 8.06, 2019: 8.05, 2020: 8.05, 2021: 8.06,\n",
    "    }        \n",
    "\n",
    "}\n",
    "\n",
    "df_target = pd.DataFrame(target_values)"
   ]
  },
  {
   "cell_type": "code",
   "execution_count": null,
   "metadata": {},
   "outputs": [],
   "source": [
    "df.keys()"
   ]
  },
  {
   "cell_type": "code",
   "execution_count": null,
   "metadata": {},
   "outputs": [],
   "source": [
    "# Calculate the error with the model\n",
    "df_errors = (df_target - df[df_target.columns] )"
   ]
  },
  {
   "cell_type": "code",
   "execution_count": null,
   "metadata": {},
   "outputs": [],
   "source": [
    "fig, ax = plt.subplots(figsize=(10, 5))\n",
    "import itertools\n",
    "colors = itertools.cycle(['r', 'g', 'b', 'c', 'm', 'y', 'k'])\n",
    "\n",
    "# Plot the data\n",
    "for col in df_target.columns:\n",
    "\n",
    "    color = next(colors)\n",
    "\n",
    "    max_val = max(df[col].max(), df_target[col].max())\n",
    "    min_val = min(df[col].min(), df_target[col].min())\n",
    "    norm = lambda x: (x - min_val) / (max_val - min_val)\n",
    "    ax.plot(norm(df[col]), label=col, color=color)\n",
    "    ax.scatter(df_target.index, norm(df_target[col]), color=color )\n",
    "\n",
    "    # add the intial and final values as text \n",
    "    ax.text(df.index[0], norm(df[col].iloc[0]), f'{df[col].iloc[0]:.2f}', color=color)\n",
    "    ax.text(df.index[-1], norm(df[col].iloc[-1]), f'{df[col].iloc[-1]:.2f}', color=color)\n",
    "ax.legend()\n",
    "ax.set_ylabel('Normalized value')\n",
    "    "
   ]
  },
  {
   "cell_type": "code",
   "execution_count": null,
   "metadata": {},
   "outputs": [],
   "source": [
    "df['H Conc']"
   ]
  },
  {
   "cell_type": "code",
   "execution_count": null,
   "metadata": {},
   "outputs": [],
   "source": [
    "from scipy.optimize import minimize\n",
    "import numpy as np\n",
    "\n",
    "params_to_optimize = [\n",
    "    \"Upper Ocean CO2\", \n",
    "    \"Alkalinity\",\n",
    "]\n",
    "def error_function(params):\n",
    "\n",
    "    model = pysd.load(model_file)\n",
    "    initial_values = ({param: value for param, value in zip(params_to_optimize, params)})\n",
    "    final_values =model.run(\n",
    "        initial_condition=(1750, initial_values),\n",
    "        return_columns=df_target.columns).iloc[-1]\n",
    "    target_values = df_target.iloc[0] \n",
    "    relative_err =( final_values- target_values) / target_values\n",
    "    return np.sum(relative_err**2)"
   ]
  },
  {
   "cell_type": "code",
   "execution_count": null,
   "metadata": {},
   "outputs": [],
   "source": [
    "minimize(error_function, [1000, 1000,])"
   ]
  },
  {
   "cell_type": "code",
   "execution_count": null,
   "metadata": {},
   "outputs": [],
   "source": [
    "error_function([1000, 1000])"
   ]
  }
 ],
 "metadata": {
  "kernelspec": {
   "display_name": "Python 3",
   "language": "python",
   "name": "python3"
  },
  "language_info": {
   "codemirror_mode": {
    "name": "ipython",
    "version": 3
   },
   "file_extension": ".py",
   "mimetype": "text/x-python",
   "name": "python",
   "nbconvert_exporter": "python",
   "pygments_lexer": "ipython3",
   "version": "3.11.2"
  },
  "orig_nbformat": 4,
  "vscode": {
   "interpreter": {
    "hash": "c261aea317cc0286b3b3261fbba9abdec21eaa57589985bb7a274bf54d6cc0a7"
   }
  }
 },
 "nbformat": 4,
 "nbformat_minor": 2
}
